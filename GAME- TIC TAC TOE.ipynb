{
 "cells": [
  {
   "cell_type": "markdown",
   "metadata": {},
   "source": [
    "**Tic Tac Toe in python | Apurv Kulkarni**"
   ]
  },
  {
   "cell_type": "code",
   "execution_count": 14,
   "metadata": {},
   "outputs": [],
   "source": [
    "# display board\n",
    "\n",
    "from IPython.display import clear_output\n",
    "\n",
    "def display_board(board):\n",
    "    clear_output()\n",
    "    print(board[7]+' | '+board[8]+' | '+board[9])\n",
    "    print('---------')\n",
    "    print(board[4]+' | '+board[5]+' | '+board[6])\n",
    "    print('---------')\n",
    "    print(board[1]+' | '+board[2]+' | '+board[3])\n",
    "    "
   ]
  },
  {
   "cell_type": "code",
   "execution_count": 15,
   "metadata": {},
   "outputs": [],
   "source": [
    "# assign marker\n",
    "\n",
    "def player_marker():\n",
    "    marker = ''\n",
    "    while not (marker =='X' or marker == 'O'):\n",
    "        marker = input('Choose \"X\" or \"O\": ').upper()\n",
    "        \n",
    "    if marker == 'X':\n",
    "        return('x','O')\n",
    "    else:\n",
    "        return('O','X')"
   ]
  },
  {
   "cell_type": "code",
   "execution_count": 16,
   "metadata": {},
   "outputs": [],
   "source": [
    "# place marker\n",
    "\n",
    "def place_marker(board, marker, position):\n",
    "    board[position] = marker"
   ]
  },
  {
   "cell_type": "code",
   "execution_count": 17,
   "metadata": {},
   "outputs": [],
   "source": [
    "# win\n",
    "\n",
    "def win(board, mark):\n",
    "    return((board[1] == board[2] == board[3] == mark) or\n",
    "           (board[4] == board[5] == board[6] == mark) or \n",
    "           (board[7] == board[8] == board[9] == mark) or \n",
    "           (board[1] == board[4] == board[7] == mark) or\n",
    "           (board[2] == board[5] == board[8] == mark) or\n",
    "           (board[3] == board[6] == board[9] == mark) or \n",
    "           (board[1] == board[5] == board[9] == mark) or \n",
    "           (board[3] == board[5] == board[7] == mark))"
   ]
  },
  {
   "cell_type": "code",
   "execution_count": 6,
   "metadata": {},
   "outputs": [],
   "source": [
    "import random\n",
    "\n",
    "def go_first():\n",
    "    if random.randint(0,1)==0:\n",
    "        return 'Player 2'\n",
    "    else:\n",
    "        return 'Player 1'"
   ]
  },
  {
   "cell_type": "code",
   "execution_count": 7,
   "metadata": {},
   "outputs": [],
   "source": [
    "# space availability\n",
    "\n",
    "def space_check(board, position):\n",
    "    \n",
    "    return board[position] == ' '\n",
    "\n",
    "# jab tak board pe ' ' aesi place nahi milti tab tak dhundte raho"
   ]
  },
  {
   "cell_type": "code",
   "execution_count": 8,
   "metadata": {},
   "outputs": [],
   "source": [
    "# full board check\n",
    "\n",
    "def board_check(board):\n",
    "    for p in range(1,10):\n",
    "        if space_check(board,p):\n",
    "            return False\n",
    "    return True"
   ]
  },
  {
   "cell_type": "code",
   "execution_count": 9,
   "metadata": {},
   "outputs": [],
   "source": [
    "# player's choice\n",
    "\n",
    "def player_choice(board):\n",
    "    position = 0\n",
    "    \n",
    "    while position not in [1,2,3,4,5,6,7,8,9] or not space_check(board, position):\n",
    "        position = int(input('Choose your position (1-9): '))\n",
    "        \n",
    "    return position"
   ]
  },
  {
   "cell_type": "code",
   "execution_count": 10,
   "metadata": {},
   "outputs": [],
   "source": [
    "# play again\n",
    "\n",
    "def replay():\n",
    "   \n",
    "    return input('Do you want to play again? Enter Yes or No: ').lower().startswith('y')"
   ]
  },
  {
   "cell_type": "code",
   "execution_count": null,
   "metadata": {},
   "outputs": [],
   "source": []
  },
  {
   "cell_type": "code",
   "execution_count": null,
   "metadata": {},
   "outputs": [],
   "source": []
  },
  {
   "cell_type": "code",
   "execution_count": null,
   "metadata": {},
   "outputs": [],
   "source": []
  },
  {
   "cell_type": "code",
   "execution_count": 18,
   "metadata": {},
   "outputs": [
    {
     "name": "stdout",
     "output_type": "stream",
     "text": [
      "  |   | X\n",
      "---------\n",
      "  | X |  \n",
      "---------\n",
      "X | O | O\n",
      "Player 2 won!!\n",
      "Do you want to play again? Enter Yes or No: n\n"
     ]
    }
   ],
   "source": [
    "print(\"TIC TAC TOE\")\n",
    "print(\"Loading... COMPLETED\")\n",
    "\n",
    "while True:\n",
    "    \n",
    "    board = [' ']*10\n",
    "        \n",
    "    player_m = player_marker()\n",
    "    print(\"Player 1: \",player_m[0])\n",
    "    print(\"Player 2: \",player_m[1])\n",
    "    turn = go_first()\n",
    "    print(\"{} will go fisrt.\".format(turn))\n",
    "    \n",
    "    start = input(\"Do you want to start the game(y/n): \").upper()\n",
    "    if start==\"Y\":\n",
    "        game_on = True\n",
    "    else:\n",
    "        game_on = False\n",
    "    \n",
    "    while game_on==True:\n",
    "        \n",
    "        if turn==\"Player 1\":\n",
    "            display_board(board)\n",
    "            position = player_choice(board)\n",
    "            place_marker(board,player_m[0],position)\n",
    "            \n",
    "            if win(board,player_m[0]):\n",
    "                display_board(board)\n",
    "                print(\"Player 1 won!\")\n",
    "                game_on = False\n",
    "            else:\n",
    "                if board_check(board):\n",
    "                    display_board(board)\n",
    "                    print(\"Game is draw\")\n",
    "                    game_on = False\n",
    "                else:\n",
    "                    turn = 'Player 2'\n",
    "                \n",
    "        \n",
    "        else:\n",
    "            display_board(board)\n",
    "            position = player_choice(board)\n",
    "            place_marker(board, player_m[1], position)\n",
    "            \n",
    "            if win(board,player_m[1]):\n",
    "                display_board(board)\n",
    "                print(\"Player 2 won!!\")\n",
    "                game_on = False\n",
    "            else:\n",
    "                if board_check(board):\n",
    "                    display_board(board)\n",
    "                    print(\"Game is draw\")\n",
    "                    game_on = False\n",
    "                else:\n",
    "                    turn = 'Player 1'\n",
    "            \n",
    "    if not replay():\n",
    "        break"
   ]
  },
  {
   "cell_type": "code",
   "execution_count": null,
   "metadata": {},
   "outputs": [],
   "source": []
  },
  {
   "cell_type": "code",
   "execution_count": null,
   "metadata": {},
   "outputs": [],
   "source": []
  }
 ],
 "metadata": {
  "kernelspec": {
   "display_name": "Python 3",
   "language": "python",
   "name": "python3"
  },
  "language_info": {
   "codemirror_mode": {
    "name": "ipython",
    "version": 3
   },
   "file_extension": ".py",
   "mimetype": "text/x-python",
   "name": "python",
   "nbconvert_exporter": "python",
   "pygments_lexer": "ipython3",
   "version": "3.7.6"
  }
 },
 "nbformat": 4,
 "nbformat_minor": 4
}
